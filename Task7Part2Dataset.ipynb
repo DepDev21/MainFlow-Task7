import pandas as pd
import numpy as np

# ✅ Generate 50 business days starting from Jan 1, 2024
date_rng = pd.date_range(start='2024-01-01', periods=50, freq='B')

# ✅ Create random stock prices and volume
np.random.seed(42)
price = np.random.normal(loc=100, scale=5, size=(50))  # base around 100 with some noise
volume = np.random.randint(1000, 5000, size=(50))

# ✅ Construct DataFrame
df_stock = pd.DataFrame({
    'Date': date_rng,
    'Open': price + np.random.normal(0, 1, 50),  # Open price is Close plus a tiny noise
    'Close': price,
    'Volume': volume
})

# ✅ Save to CSV
df_stock.to_csv('stock_prices.csv', index=False)

print(df_stock.head())
print(f"\n✅ Dataset created with {len(df_stock)} rows and saved as 'stock_prices.csv'")
