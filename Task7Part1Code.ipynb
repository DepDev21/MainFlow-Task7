# ✅ Import PCA and plot libraries
from sklearn.decomposition import PCA
import matplotlib.pyplot as plt

# ✅ Separate features and target
X = df.iloc[:, :-1]  # features
y = df['target']     # target labels

# ✅ Apply PCA to reduce to 2 components
pca = PCA(n_components=2)
X_pca = pca.fit_transform(X)

# ✅ Create DataFrame for reduced data
df_pca = pd.DataFrame(data=X_pca, columns=['PC1', 'PC2'])
df_pca['target'] = y

print(df_pca.head())

# ✅ Scatter plot
plt.figure(figsize=(8,6))
for label in df_pca['target'].unique():
    plt.scatter(df_pca[df_pca['target'] == label]['PC1'],
                df_pca[df_pca['target'] == label]['PC2'],
                label=iris.target_names[label])

plt.xlabel('Principal Component 1')
plt.ylabel('Principal Component 2')
plt.title('PCA of Iris Dataset')
plt.legend()
plt.show()
