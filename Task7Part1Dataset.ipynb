# ✅ Import libraries
import pandas as pd
from sklearn.datasets import load_iris

# ✅ Load Iris dataset
iris = load_iris()
df = pd.DataFrame(data=iris.data, columns=iris.feature_names)
df['target'] = iris.target

# ✅ Check the data
print(df.head())

# ✅ Save to CSV (optional)
df.to_csv('iris.csv', index=False)
