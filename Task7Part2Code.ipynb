# ✅ Import libraries
import pandas as pd
import numpy as np
import matplotlib.pyplot as plt
from statsmodels.tsa.arima.model import ARIMA
from sklearn.metrics import mean_absolute_error, mean_squared_error

import warnings
warnings.filterwarnings("ignore")

# ✅ 1) Load and Preprocess the Dataset
df = pd.read_csv('stock_prices.csv')

# Convert Date to datetime and set as index
df['Date'] = pd.to_datetime(df['Date'])
df.set_index('Date', inplace=True)

# Check for missing values
print("Missing values:\n", df.isnull().sum())

# ✅ 2) Exploratory Data Analysis (EDA)
plt.figure(figsize=(12,6))
plt.plot(df['Close'])
plt.title('Stock Close Price Over Time')
plt.xlabel('Date')
plt.ylabel('Close Price')
plt.show()

# ✅ 3) Feature Engineering
# Lag feature: previous day's close price
df['Close_lag1'] = df['Close'].shift(1)

# 7-day moving average
df['Close_MA7'] = df['Close'].rolling(window=7).mean()

print("\nWith new features:\n", df.head(10))

# ✅ 4) Model Training
# We'll train ARIMA only on Close price for simplicity
# Order (p,d,q) can be tuned - using (5,1,0) as example
model = ARIMA(df['Close'], order=(5,1,0))
model_fit = model.fit()

# ✅ Forecast next 30 days
forecast = model_fit.forecast(steps=30)
print("\nNext 30 days forecast:\n", forecast)

# ✅ 5) Model Evaluation & Visualization
# Plot forecast vs actual
plt.figure(figsize=(12,6))
plt.plot(df['Close'], label='Actual')
plt.plot(pd.date_range(df.index[-1], periods=30, freq='B'), forecast, label='Forecast', color='red')
plt.title('Actual vs Forecasted Close Prices')
plt.xlabel('Date')
plt.ylabel('Close Price')
plt.legend()
plt.show()

# Forecast error: comparing last 30 known points for demonstration
test = df['Close'][-30:]
predictions = model_fit.predict(start=len(df)-30, end=len(df)-1, typ='levels')

mae = mean_absolute_error(test, predictions)
rmse = np.sqrt(mean_squared_error(test, predictions))
mape = np.mean(np.abs((test - predictions) / test)) * 100

print(f"MAE: {mae:.2f}")
print(f"RMSE: {rmse:.2f}")
print(f"MAPE: {mape:.2f}%")
